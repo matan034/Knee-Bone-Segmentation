{
  "cells": [
    {
      "cell_type": "markdown",
      "metadata": {
        "id": "view-in-github",
        "colab_type": "text"
      },
      "source": [
        "<a href=\"https://colab.research.google.com/github/matan034/Knee-Bone-Segmentation/blob/main/KneeProject_preprocess.ipynb\" target=\"_parent\"><img src=\"https://colab.research.google.com/assets/colab-badge.svg\" alt=\"Open In Colab\"/></a>"
      ]
    },
    {
      "cell_type": "markdown",
      "metadata": {
        "id": "e8CEaI6RlnOi"
      },
      "source": [
        "# Preprocess\n",
        "\n"
      ]
    },
    {
      "cell_type": "code",
      "execution_count": null,
      "metadata": {
        "id": "An9otXIiVEKa"
      },
      "outputs": [],
      "source": [
        "import os, glob\n",
        "import nibabel as nib\n",
        "import numpy as np\n",
        "import matplotlib.pyplot as plt\n",
        "import cv2\n",
        "from google.colab import drive\n",
        "import itertools\n",
        "from sklearn.model_selection import train_test_split\n",
        "from skimage.segmentation import find_boundaries"
      ]
    },
    {
      "cell_type": "code",
      "execution_count": null,
      "metadata": {
        "colab": {
          "base_uri": "https://localhost:8080/"
        },
        "id": "IM5RncylVP2g",
        "outputId": "1be3cc04-1127-48bf-9249-f706a571fd02"
      },
      "outputs": [
        {
          "name": "stdout",
          "output_type": "stream",
          "text": [
            "Drive already mounted at /content/drive; to attempt to forcibly remount, call drive.mount(\"/content/drive\", force_remount=True).\n"
          ]
        }
      ],
      "source": [
        " #CONSTANTS!!!\n",
        "\n",
        "# STEP 1 - Load and visualize data\n",
        "\n",
        "\n",
        "SLICE_X = True\n",
        "SLICE_Y = False\n",
        "SLICE_Z = True\n",
        "VALIDATION=True\n",
        "TRAIN_AND_TEST=True\n",
        "FIND_BOUNDARY=False\n",
        "IS_BOUNDARY_PATH = False\n",
        "REMOVE_BLACK_NO_BONE_IMAGES=False\n",
        "\n",
        "\n",
        "drive.mount('/content/drive')\n",
        "dataInputPath = '/content/drive/My Drive/KneeProject/volume_data'\n",
        "\n",
        "if IS_BOUNDARY_PATH:\n",
        "  trainingOutputPath = '/content/drive/My Drive/KneeProject/trainingBoundary/' #when creating boundary images go to path trainingBoundary regular images in training\n",
        "  testingOutputPath = '/content/drive/My Drive/KneeProject/testingBoundary/'\n",
        "  validationOutputPath = '/content/drive/My Drive/KneeProject/validationBoundary/'\n",
        "else:\n",
        "  trainingOutputPath = '/content/drive/My Drive/KneeProject/training/'\n",
        "  testingOutputPath = '/content/drive/My Drive/KneeProject/testing/'\n",
        "  validationOutputPath = '/content/drive/My Drive/KneeProject/validation/'\n",
        "\n",
        "trainingImageSliceOutput = os.path.join(trainingOutputPath, 'img/femur')\n",
        "trainingMaskSliceOutput = os.path.join(trainingOutputPath, 'mask/femur')\n",
        "\n",
        " #when creating boundary images go to path testingBoundary regular images in testing\n",
        "testingImageSliceOutput = os.path.join(testingOutputPath, 'img/femur')\n",
        "testingMaskSliceOutput = os.path.join(testingOutputPath, 'mask/femur')\n",
        "\n",
        " #when creating boundary images go to path validationBoundary regular images in validation\n",
        "validationImageSliceOutput = os.path.join(validationOutputPath, 'img/femur')\n",
        "validationMaskSliceOutput = os.path.join(validationOutputPath, 'mask/femur')\n",
        "\n",
        "# STEP 2 - Image normalization\n",
        "HOUNSFIELD_MIN = -1000\n",
        "HOUNSFIELD_MAX = 2000\n",
        "HOUNSFIELD_RANGE = HOUNSFIELD_MAX - HOUNSFIELD_MIN\n",
        "\n",
        "\n",
        "\n",
        "SLICE_DECIMATE_IDENTIFIER = 3"
      ]
    },
    {
      "cell_type": "code",
      "execution_count": null,
      "metadata": {
        "id": "7HNBsg7jzIS5"
      },
      "outputs": [],
      "source": [
        "#Get all img and mask aths\n",
        "imgPaths=[]\n",
        "maskPaths=[]\n",
        "for folderName in os.listdir(dataInputPath):\n",
        "    imgPaths.append(os.path.join(dataInputPath, folderName + \"/img/\"))\n",
        "    maskPaths.append(os.path.join(dataInputPath, folderName + \"/mask/\"))"
      ]
    },
    {
      "cell_type": "markdown",
      "metadata": {
        "id": "zOyvbB2NxX04"
      },
      "source": [
        "**Read img/mask functions**\n",
        "\n",
        "\n"
      ]
    },
    {
      "cell_type": "code",
      "execution_count": null,
      "metadata": {
        "id": "759WdFVWVcQi"
      },
      "outputs": [],
      "source": [
        "# Normalize image\n",
        "def normalizeImageIntensityRange(img):\n",
        "    img[img < HOUNSFIELD_MIN] = HOUNSFIELD_MIN\n",
        "    img[img > HOUNSFIELD_MAX] = HOUNSFIELD_MAX\n",
        "    return (img - HOUNSFIELD_MIN) / HOUNSFIELD_RANGE\n",
        "\n",
        "# Read image or mask volume\n",
        "def readImageVolume(imgPath, normalize=False):\n",
        "    img = nib.load(imgPath).get_fdata()\n",
        "    if normalize:\n",
        "        return normalizeImageIntensityRange(img)\n",
        "    else:\n",
        "        return img\n",
        "\n",
        "# Save volume slice to file\n",
        "def saveSlice(img, fname, path, only_boundary=False):\n",
        "    if only_boundary:\n",
        "      img = find_boundaries(img,mode='thick')\n",
        "    img = np.uint8(img * 255)\n",
        "    fout = os.path.join(path, f'{fname}.png')\n",
        "    cv2.imwrite(fout, img)\n",
        "    print(f'[+] Slice saved: {fout}', end='\\r')\n",
        "\n",
        "\n",
        "def check_data_in_image(img, minAmountOfPixelsInImg=1):\n",
        "    if not REMOVE_BLACK_NO_BONE_IMAGES:\n",
        "        return True\n",
        "    else:\n",
        "        count = np.count_nonzero(img)\n",
        "        if count > minAmountOfPixelsInImg:\n",
        "            return True\n",
        "        else:\n",
        "            return False\n",
        "\n",
        "\n",
        "#gets main folder name\n",
        "def getFolderName(path, key = 'volume_data'):\n",
        "        parts = path.split(os.path.sep)\n",
        "        idx = parts.index('volume_data')\n",
        "        folderName= parts[idx +1]\n",
        "        return folderName\n",
        "\n",
        "\n",
        "\n",
        "#reads normalizes and saves slices\n",
        "def readAndProcessVolumes(img_tuple, mask_tuple):\n",
        "    for img_idx,img_filename in enumerate(sorted(glob.iglob(img_tuple[0]+'*.nii'))):\n",
        "        for mask_idx,mask_filename in enumerate(sorted(glob.iglob(mask_tuple[0]+'*.nii'))):\n",
        "          img_folderName=getFolderName(img_tuple[0])\n",
        "          mask_folderName=getFolderName(mask_tuple[0])\n",
        "          img = readImageVolume(img_filename, img_tuple[3])\n",
        "          mask = readImageVolume(mask_filename, mask_tuple[3])\n",
        "          numOfSlices = sliceAndSaveVolumeImage(img_tuple=(img, img_folderName + str(img_idx),img_tuple[1],img_tuple[2]),\n",
        "                                                mask_tuple=(mask, mask_folderName + str(mask_idx),mask_tuple[1],mask_tuple[2]))\n",
        "          print(f'\\n{img_filename + mask_filename}, {numOfSlices} slices created \\n')\n",
        "          return numOfSlices\n",
        "\n",
        "\n",
        "#tuple - vol, fname, trainPath, testPath\n",
        "def sliceAndSaveVolumeImage(img_tuple, mask_tuple):\n",
        "    dims = {\"img\":img_tuple[0].shape, \"mask\": mask_tuple[0].shape}\n",
        "    print(dims[\"img\"], \"image dims\")\n",
        "    print(dims[\"mask\"], \"mask dims\")\n",
        "    cnt = 0\n",
        "    if SLICE_X:\n",
        "        for i in range(dims[\"img\"][0]):\n",
        "            mask_slice = mask_tuple[0][i,:,:]\n",
        "            MIN_PIXELS_IN_MASK=int(mask_slice.size*0.05)\n",
        "            if check_data_in_image(mask_slice,MIN_PIXELS_IN_MASK):\n",
        "              cnt += 1\n",
        "              img_slice = img_tuple[0][i,:,:]\n",
        "              if i % 5 == 0:\n",
        "                  saveSlice(img_slice, img_tuple[1]+f'-slice{str(i).zfill(SLICE_DECIMATE_IDENTIFIER)}_x', img_tuple[3])\n",
        "                  saveSlice(mask_slice, mask_tuple[1]+f'-slice{str(i).zfill(SLICE_DECIMATE_IDENTIFIER)}_x', mask_tuple[3], FIND_BOUNDARY)\n",
        "              else:\n",
        "                  saveSlice(img_slice, img_tuple[1]+f'-slice{str(i).zfill(SLICE_DECIMATE_IDENTIFIER)}_x', img_tuple[2])\n",
        "                  saveSlice(mask_slice, mask_tuple[1]+f'-slice{str(i).zfill(SLICE_DECIMATE_IDENTIFIER)}_x', mask_tuple[2], FIND_BOUNDARY)\n",
        "\n",
        "    if SLICE_Y:\n",
        "        for i in range(dims[\"img\"][1]):\n",
        "            mask_slice = mask_tuple[0][:,i,:]\n",
        "            MIN_PIXELS_IN_MASK=int(mask_slice.size*0.1)\n",
        "            if check_data_in_image(mask_slice,MIN_PIXELS_IN_MASK):\n",
        "              cnt += 1\n",
        "              img_slice = img_tuple[0][:,i,:]\n",
        "              if i % 5 == 0:\n",
        "                  saveSlice(img_slice, img_tuple[1]+f'-slice{str(i).zfill(SLICE_DECIMATE_IDENTIFIER)}_y', img_tuple[3])\n",
        "                  saveSlice(mask_slice, mask_tuple[1]+f'-slice{str(i).zfill(SLICE_DECIMATE_IDENTIFIER)}_y', mask_tuple[3],FIND_BOUNDARY)\n",
        "              else:\n",
        "                  saveSlice(img_slice, img_tuple[1]+f'-slice{str(i).zfill(SLICE_DECIMATE_IDENTIFIER)}_y', img_tuple[2])\n",
        "                  saveSlice(mask_slice, mask_tuple[1]+f'-slice{str(i).zfill(SLICE_DECIMATE_IDENTIFIER)}_y', mask_tuple[2],FIND_BOUNDARY)\n",
        "    if SLICE_Z:\n",
        "        for i in range(dims[\"img\"][2]):\n",
        "            mask_slice = mask_tuple[0][:,:,i]\n",
        "            MIN_PIXELS_IN_MASK=int(mask_slice.size*0.1)\n",
        "            if check_data_in_image(mask_slice,MIN_PIXELS_IN_MASK):\n",
        "              cnt += 1\n",
        "              img_slice = img_tuple[0][:,:,i]\n",
        "              if i % 5 == 0:\n",
        "                  saveSlice(img_slice, img_tuple[1]+f'-slice{str(i).zfill(SLICE_DECIMATE_IDENTIFIER)}_z', img_tuple[3])\n",
        "                  saveSlice(mask_slice, mask_tuple[1]+f'-slice{str(i).zfill(SLICE_DECIMATE_IDENTIFIER)}_z', mask_tuple[3],FIND_BOUNDARY)\n",
        "              else:\n",
        "                  saveSlice(img_slice, img_tuple[1]+f'-slice{str(i).zfill(SLICE_DECIMATE_IDENTIFIER)}_z', img_tuple[2])\n",
        "                  saveSlice(mask_slice, mask_tuple[1]+f'-slice{str(i).zfill(SLICE_DECIMATE_IDENTIFIER)}_z', mask_tuple[2],FIND_BOUNDARY)\n",
        "    return cnt\n",
        "\n",
        "\n",
        "def clear_dir(path):\n",
        "  if os.path.exists(path):\n",
        "    for item in os.listdir(path):\n",
        "      if not os.path.isdir(os.path.join(path, item)):\n",
        "        os.remove(os.path.join(path, item))"
      ]
    },
    {
      "cell_type": "markdown",
      "metadata": {
        "id": "OacNFXSjxs48"
      },
      "source": [
        "**Save png of all slices**"
      ]
    },
    {
      "cell_type": "code",
      "execution_count": null,
      "metadata": {
        "id": "WNl-Lkbv38XB"
      },
      "outputs": [],
      "source": [
        "  clear_dir(trainingImageSliceOutput)\n",
        "  clear_dir(testingImageSliceOutput)\n",
        "  clear_dir(trainingMaskSliceOutput)\n",
        "  clear_dir(testingMaskSliceOutput)\n",
        "  clear_dir(validationImageSliceOutput)\n",
        "  clear_dir(validationMaskSliceOutput)"
      ]
    },
    {
      "cell_type": "code",
      "execution_count": null,
      "metadata": {
        "colab": {
          "base_uri": "https://localhost:8080/"
        },
        "id": "z-HbTgs4Vjtk",
        "outputId": "1c9aa77b-4631-4baf-d4c5-6f3676e8c86e"
      },
      "outputs": [
        {
          "name": "stdout",
          "output_type": "stream",
          "text": [
            "(512, 512, 570) image dims\n",
            "(512, 512, 570) mask dims\n",
            "[+] Slice saved: /content/drive/My Drive/KneeProject/training/mask/femur/ALMar0-slice569_z.png\n",
            "/content/drive/My Drive/KneeProject/volume_data/ALMar/img/301 3D_VIEW_PD.nii/content/drive/My Drive/KneeProject/volume_data/ALMar/mask/Segmentation.ALMar-Femur-label.nii, 1082 slices created \n",
            "\n",
            "(512, 512, 570) image dims\n",
            "(512, 512, 570) mask dims\n",
            "[+] Slice saved: /content/drive/My Drive/KneeProject/training/mask/femur/FK0-slice569_z.png\n",
            "/content/drive/My Drive/KneeProject/volume_data/FK/img/301 3D_VIEW_PD_1.nii/content/drive/My Drive/KneeProject/volume_data/FK/mask/Segmentation_FK-Femur-label.nii, 1082 slices created \n",
            "\n",
            "(512, 512, 570) image dims\n",
            "(512, 512, 570) mask dims\n",
            "[+] Slice saved: /content/drive/My Drive/KneeProject/training/mask/femur/BMS0-slice569_z.png\n",
            "/content/drive/My Drive/KneeProject/volume_data/BMS/img/201 3D_VIEW_PD.nii/content/drive/My Drive/KneeProject/volume_data/BMS/mask/Segmentation_BMS-Femur-label.nii, 1082 slices created \n",
            "\n",
            "(512, 512, 570) image dims\n",
            "(512, 512, 570) mask dims\n",
            "[+] Slice saved: /content/drive/My Drive/KneeProject/training/mask/femur/CE0-slice569_z.png\n",
            "/content/drive/My Drive/KneeProject/volume_data/CE/img/301 3D_VIEW_PD_1.nii/content/drive/My Drive/KneeProject/volume_data/CE/mask/Segmentation_CE-Femur-label.nii, 1082 slices created \n",
            "\n",
            "(512, 512, 570) image dims\n",
            "(512, 512, 570) mask dims\n",
            "[+] Slice saved: /content/drive/My Drive/KneeProject/training/mask/femur/MM0-slice569_z.png\n",
            "/content/drive/My Drive/KneeProject/volume_data/MM/img/301 3D_VIEW_PD.nii/content/drive/My Drive/KneeProject/volume_data/MM/mask/Segmentation.MM-femore.MM-label.nii, 1082 slices created \n",
            "\n",
            "(528, 528, 570) image dims\n",
            "(528, 528, 570) mask dims\n",
            "[+] Slice saved: /content/drive/My Drive/KneeProject/training/mask/femur/PC0-slice569_z.png\n",
            "/content/drive/My Drive/KneeProject/volume_data/PC/img/301 3D_VIEW_PD.nii/content/drive/My Drive/KneeProject/volume_data/PC/mask/Segmentation_PC-Femur-label.nii, 1098 slices created \n",
            "\n",
            "(512, 512, 470) image dims\n",
            "(512, 512, 470) mask dims\n",
            "[+] Slice saved: /content/drive/My Drive/KneeProject/training/mask/femur/PM0-slice469_z.png\n",
            "/content/drive/My Drive/KneeProject/volume_data/PM/img/301 3D_VIEW_PD.nii/content/drive/My Drive/KneeProject/volume_data/PM/mask/Segmentation_PM-Femur-label.nii, 982 slices created \n",
            "\n",
            "(512, 512, 470) image dims\n",
            "(512, 512, 470) mask dims\n",
            "[+] Slice saved: /content/drive/My Drive/KneeProject/training/mask/femur/NC0-slice469_z.png\n",
            "/content/drive/My Drive/KneeProject/volume_data/NC/img/201 3D_VIEW_PD.nii/content/drive/My Drive/KneeProject/volume_data/NC/mask/Segmentation_NC-Femore-label.nii, 982 slices created \n",
            "\n",
            "(528, 528, 570) image dims\n",
            "(528, 528, 570) mask dims\n",
            "[+] Slice saved: /content/drive/My Drive/KneeProject/training/mask/femur/VV0-slice569_z.png\n",
            "/content/drive/My Drive/KneeProject/volume_data/VV/img/301 3D_VIEW_PD.nii/content/drive/My Drive/KneeProject/volume_data/VV/mask/Segmentation_VV-Femur-label.nii, 1098 slices created \n",
            "\n",
            "(512, 512, 500) image dims\n",
            "(512, 512, 500) mask dims\n",
            "[+] Slice saved: /content/drive/My Drive/KneeProject/training/mask/femur/TC0-slice499_z.png\n",
            "/content/drive/My Drive/KneeProject/volume_data/TC/img/301 3D_VIEW_PD.nii/content/drive/My Drive/KneeProject/volume_data/TC/mask/Segmentation_TC-Femur-label.nii, 1012 slices created \n",
            "\n",
            "(512, 512, 570) image dims\n",
            "(512, 512, 570) mask dims\n",
            "[+] Slice saved: /content/drive/My Drive/KneeProject/training/mask/femur/TA0-slice569_z.png\n",
            "/content/drive/My Drive/KneeProject/volume_data/TA/img/301 3D_VIEW_PD.nii/content/drive/My Drive/KneeProject/volume_data/TA/mask/Segmentation_TA-Femur-label.nii, 1082 slices created \n",
            "\n",
            "(512, 512, 540) image dims\n",
            "(512, 512, 540) mask dims\n",
            "[+] Slice saved: /content/drive/My Drive/KneeProject/validation/mask/femur/TG0-slice539_z.png\n",
            "/content/drive/My Drive/KneeProject/volume_data/TG/img/301 3D_VIEW_PD.nii/content/drive/My Drive/KneeProject/volume_data/TG/mask/Segmentation_TG-Femur-label.nii, 1052 slices created \n",
            "\n"
          ]
        }
      ],
      "source": [
        "NUM_OF_FOLDERS=len(os.listdir(dataInputPath))-1\n",
        "#NUM_OF_FOLDERS=1\n",
        "if TRAIN_AND_TEST:\n",
        "  for i in range(NUM_OF_FOLDERS):\n",
        "    numOfSlicesImgs=readAndProcessVolumes((imgPaths[i],trainingImageSliceOutput,testingImageSliceOutput, True),\n",
        "                                          (maskPaths[i],trainingMaskSliceOutput,testingMaskSliceOutput, False)) # read all img volumes and generate pngs from slices for Training and testing images\n",
        "\n",
        "if VALIDATION:\n",
        "    numOfSlicesImgs=readAndProcessVolumes((imgPaths[NUM_OF_FOLDERS],validationImageSliceOutput,validationImageSliceOutput, True),\n",
        "                                        (maskPaths[NUM_OF_FOLDERS],validationMaskSliceOutput,validationMaskSliceOutput, False))"
      ]
    }
  ],
  "metadata": {
    "accelerator": "GPU",
    "colab": {
      "provenance": [],
      "gpuType": "A100",
      "gpuClass": "premium",
      "machine_shape": "hm",
      "include_colab_link": true
    },
    "gpuClass": "premium",
    "kernelspec": {
      "display_name": "Python 3",
      "name": "python3"
    },
    "language_info": {
      "name": "python"
    }
  },
  "nbformat": 4,
  "nbformat_minor": 0
}
